{
  "nbformat": 4,
  "nbformat_minor": 0,
  "metadata": {
    "colab": {
      "name": "Arabic Hotel reviews Sentimental Analysis.ipynb",
      "provenance": [],
      "authorship_tag": "ABX9TyNI5WILemLWm8rYVIPuH8VJ"
    },
    "kernelspec": {
      "name": "python3",
      "display_name": "Python 3"
    },
    "accelerator": "GPU"
  },
  "cells": [
    {
      "cell_type": "markdown",
      "metadata": {
        "id": "zyW9S5y5uIl9",
        "colab_type": "text"
      },
      "source": [
        "#### IMPORTING LIBRARIES"
      ]
    },
    {
      "cell_type": "code",
      "metadata": {
        "id": "M5PCgnb7tmKX",
        "colab_type": "code",
        "colab": {}
      },
      "source": [
        "import os\n",
        "import re\n",
        "import pickle\n",
        "import numpy as np\n",
        "import pandas as pd\n",
        "\n",
        "from sklearn.model_selection import train_test_split\n",
        "from sklearn.metrics import accuracy_score\n",
        "from keras.callbacks import ModelCheckpoint, EarlyStopping\n",
        "from keras.preprocessing.text import Tokenizer\n",
        "from keras.preprocessing.sequence import pad_sequences\n",
        "from keras.models import Sequential\n",
        "from keras import layers\n",
        "from keras.backend import clear_session\n",
        "seed = 42"
      ],
      "execution_count": 0,
      "outputs": []
    },
    {
      "cell_type": "markdown",
      "metadata": {
        "id": "QIDNM5ZYw0QR",
        "colab_type": "text"
      },
      "source": [
        "### Importing Dataset"
      ]
    },
    {
      "cell_type": "code",
      "metadata": {
        "id": "QEfQWP0zvy_c",
        "colab_type": "code",
        "colab": {}
      },
      "source": [
        "dataframe =  pd.read_csv('HTL.csv').dropna()"
      ],
      "execution_count": 0,
      "outputs": []
    },
    {
      "cell_type": "code",
      "metadata": {
        "id": "1xE2Netbx-iA",
        "colab_type": "code",
        "colab": {
          "base_uri": "https://localhost:8080/",
          "height": 407
        },
        "outputId": "c58206b9-21d7-4545-fc3a-42a4675d53a9"
      },
      "source": [
        "dataframe"
      ],
      "execution_count": 3,
      "outputs": [
        {
          "output_type": "execute_result",
          "data": {
            "text/html": [
              "<div>\n",
              "<style scoped>\n",
              "    .dataframe tbody tr th:only-of-type {\n",
              "        vertical-align: middle;\n",
              "    }\n",
              "\n",
              "    .dataframe tbody tr th {\n",
              "        vertical-align: top;\n",
              "    }\n",
              "\n",
              "    .dataframe thead th {\n",
              "        text-align: right;\n",
              "    }\n",
              "</style>\n",
              "<table border=\"1\" class=\"dataframe\">\n",
              "  <thead>\n",
              "    <tr style=\"text-align: right;\">\n",
              "      <th></th>\n",
              "      <th>text</th>\n",
              "      <th>polarity</th>\n",
              "    </tr>\n",
              "  </thead>\n",
              "  <tbody>\n",
              "    <tr>\n",
              "      <th>0</th>\n",
              "      <td>المكان الذي يمكنك فيه مراجعة الذات والتفكر هو ...</td>\n",
              "      <td>1</td>\n",
              "    </tr>\n",
              "    <tr>\n",
              "      <th>1</th>\n",
              "      <td>موقع رائع وحديقة رائعة ويستحق نجمةّ إضافية  \\r...</td>\n",
              "      <td>0</td>\n",
              "    </tr>\n",
              "    <tr>\n",
              "      <th>2</th>\n",
              "      <td>أسوأ فندق أقمت فيه على الإطلاق  \\r\\nيستغرق تسج...</td>\n",
              "      <td>-1</td>\n",
              "    </tr>\n",
              "    <tr>\n",
              "      <th>3</th>\n",
              "      <td>بدون روح كأنه فندق ثلاثة نجوم  \\r\\nبدون إدارة ...</td>\n",
              "      <td>0</td>\n",
              "    </tr>\n",
              "    <tr>\n",
              "      <th>4</th>\n",
              "      <td>فندق جميل مع سوء الإدارة والخدمات.  \\r\\nمن الخ...</td>\n",
              "      <td>-1</td>\n",
              "    </tr>\n",
              "    <tr>\n",
              "      <th>...</th>\n",
              "      <td>...</td>\n",
              "      <td>...</td>\n",
              "    </tr>\n",
              "    <tr>\n",
              "      <th>15567</th>\n",
              "      <td>قريب من كل شي \\r\\nجميل وهادي وكل شي حولك حتي ا...</td>\n",
              "      <td>1</td>\n",
              "    </tr>\n",
              "    <tr>\n",
              "      <th>15568</th>\n",
              "      <td>فندق رائع وممتاز \\r\\nلقد نزلت بتاريخ 1/12/2013...</td>\n",
              "      <td>1</td>\n",
              "    </tr>\n",
              "    <tr>\n",
              "      <th>15569</th>\n",
              "      <td>جيد \\r\\nالفندق بشكل عام ميزته أنه يقع قرب مركز...</td>\n",
              "      <td>0</td>\n",
              "    </tr>\n",
              "    <tr>\n",
              "      <th>15570</th>\n",
              "      <td>احقر مكان على وجه الارض \\r\\nانصح كل الذين يقوم...</td>\n",
              "      <td>-1</td>\n",
              "    </tr>\n",
              "    <tr>\n",
              "      <th>15571</th>\n",
              "      <td>ضيق جدا \\r\\nالفندق ضيق جدا من حيث مساحة الغرف ...</td>\n",
              "      <td>1</td>\n",
              "    </tr>\n",
              "  </tbody>\n",
              "</table>\n",
              "<p>15572 rows × 2 columns</p>\n",
              "</div>"
            ],
            "text/plain": [
              "                                                    text  polarity\n",
              "0      المكان الذي يمكنك فيه مراجعة الذات والتفكر هو ...         1\n",
              "1      موقع رائع وحديقة رائعة ويستحق نجمةّ إضافية  \\r...         0\n",
              "2      أسوأ فندق أقمت فيه على الإطلاق  \\r\\nيستغرق تسج...        -1\n",
              "3      بدون روح كأنه فندق ثلاثة نجوم  \\r\\nبدون إدارة ...         0\n",
              "4      فندق جميل مع سوء الإدارة والخدمات.  \\r\\nمن الخ...        -1\n",
              "...                                                  ...       ...\n",
              "15567  قريب من كل شي \\r\\nجميل وهادي وكل شي حولك حتي ا...         1\n",
              "15568  فندق رائع وممتاز \\r\\nلقد نزلت بتاريخ 1/12/2013...         1\n",
              "15569  جيد \\r\\nالفندق بشكل عام ميزته أنه يقع قرب مركز...         0\n",
              "15570  احقر مكان على وجه الارض \\r\\nانصح كل الذين يقوم...        -1\n",
              "15571  ضيق جدا \\r\\nالفندق ضيق جدا من حيث مساحة الغرف ...         1\n",
              "\n",
              "[15572 rows x 2 columns]"
            ]
          },
          "metadata": {
            "tags": []
          },
          "execution_count": 3
        }
      ]
    },
    {
      "cell_type": "markdown",
      "metadata": {
        "id": "fAAuKvyIyCqs",
        "colab_type": "text"
      },
      "source": [
        "#### Include positive and negative reviews"
      ]
    },
    {
      "cell_type": "code",
      "metadata": {
        "id": "29oT5XPXyBDd",
        "colab_type": "code",
        "colab": {}
      },
      "source": [
        "dataframe = dataframe[dataframe.polarity.isin([-1, 1])]"
      ],
      "execution_count": 0,
      "outputs": []
    },
    {
      "cell_type": "code",
      "metadata": {
        "id": "aH-olsGNyMyO",
        "colab_type": "code",
        "colab": {
          "base_uri": "https://localhost:8080/",
          "height": 407
        },
        "outputId": "b829ebd4-62ee-4afe-e69f-b54933371fd0"
      },
      "source": [
        "dataframe"
      ],
      "execution_count": 5,
      "outputs": [
        {
          "output_type": "execute_result",
          "data": {
            "text/html": [
              "<div>\n",
              "<style scoped>\n",
              "    .dataframe tbody tr th:only-of-type {\n",
              "        vertical-align: middle;\n",
              "    }\n",
              "\n",
              "    .dataframe tbody tr th {\n",
              "        vertical-align: top;\n",
              "    }\n",
              "\n",
              "    .dataframe thead th {\n",
              "        text-align: right;\n",
              "    }\n",
              "</style>\n",
              "<table border=\"1\" class=\"dataframe\">\n",
              "  <thead>\n",
              "    <tr style=\"text-align: right;\">\n",
              "      <th></th>\n",
              "      <th>text</th>\n",
              "      <th>polarity</th>\n",
              "    </tr>\n",
              "  </thead>\n",
              "  <tbody>\n",
              "    <tr>\n",
              "      <th>0</th>\n",
              "      <td>المكان الذي يمكنك فيه مراجعة الذات والتفكر هو ...</td>\n",
              "      <td>1</td>\n",
              "    </tr>\n",
              "    <tr>\n",
              "      <th>2</th>\n",
              "      <td>أسوأ فندق أقمت فيه على الإطلاق  \\r\\nيستغرق تسج...</td>\n",
              "      <td>-1</td>\n",
              "    </tr>\n",
              "    <tr>\n",
              "      <th>4</th>\n",
              "      <td>فندق جميل مع سوء الإدارة والخدمات.  \\r\\nمن الخ...</td>\n",
              "      <td>-1</td>\n",
              "    </tr>\n",
              "    <tr>\n",
              "      <th>5</th>\n",
              "      <td>فندق جميل، منظر رائع من بركة السباحة (على السط...</td>\n",
              "      <td>1</td>\n",
              "    </tr>\n",
              "    <tr>\n",
              "      <th>6</th>\n",
              "      <td>مكان لطيف وهادئ بعيدًا عن الزحام  \\r\\nعثرت على...</td>\n",
              "      <td>1</td>\n",
              "    </tr>\n",
              "    <tr>\n",
              "      <th>...</th>\n",
              "      <td>...</td>\n",
              "      <td>...</td>\n",
              "    </tr>\n",
              "    <tr>\n",
              "      <th>15566</th>\n",
              "      <td>عطلة رائعة في نهاية الأسبوع  \\r\\nإقامة جميلة و...</td>\n",
              "      <td>1</td>\n",
              "    </tr>\n",
              "    <tr>\n",
              "      <th>15567</th>\n",
              "      <td>قريب من كل شي \\r\\nجميل وهادي وكل شي حولك حتي ا...</td>\n",
              "      <td>1</td>\n",
              "    </tr>\n",
              "    <tr>\n",
              "      <th>15568</th>\n",
              "      <td>فندق رائع وممتاز \\r\\nلقد نزلت بتاريخ 1/12/2013...</td>\n",
              "      <td>1</td>\n",
              "    </tr>\n",
              "    <tr>\n",
              "      <th>15570</th>\n",
              "      <td>احقر مكان على وجه الارض \\r\\nانصح كل الذين يقوم...</td>\n",
              "      <td>-1</td>\n",
              "    </tr>\n",
              "    <tr>\n",
              "      <th>15571</th>\n",
              "      <td>ضيق جدا \\r\\nالفندق ضيق جدا من حيث مساحة الغرف ...</td>\n",
              "      <td>1</td>\n",
              "    </tr>\n",
              "  </tbody>\n",
              "</table>\n",
              "<p>13422 rows × 2 columns</p>\n",
              "</div>"
            ],
            "text/plain": [
              "                                                    text  polarity\n",
              "0      المكان الذي يمكنك فيه مراجعة الذات والتفكر هو ...         1\n",
              "2      أسوأ فندق أقمت فيه على الإطلاق  \\r\\nيستغرق تسج...        -1\n",
              "4      فندق جميل مع سوء الإدارة والخدمات.  \\r\\nمن الخ...        -1\n",
              "5      فندق جميل، منظر رائع من بركة السباحة (على السط...         1\n",
              "6      مكان لطيف وهادئ بعيدًا عن الزحام  \\r\\nعثرت على...         1\n",
              "...                                                  ...       ...\n",
              "15566  عطلة رائعة في نهاية الأسبوع  \\r\\nإقامة جميلة و...         1\n",
              "15567  قريب من كل شي \\r\\nجميل وهادي وكل شي حولك حتي ا...         1\n",
              "15568  فندق رائع وممتاز \\r\\nلقد نزلت بتاريخ 1/12/2013...         1\n",
              "15570  احقر مكان على وجه الارض \\r\\nانصح كل الذين يقوم...        -1\n",
              "15571  ضيق جدا \\r\\nالفندق ضيق جدا من حيث مساحة الغرف ...         1\n",
              "\n",
              "[13422 rows x 2 columns]"
            ]
          },
          "metadata": {
            "tags": []
          },
          "execution_count": 5
        }
      ]
    },
    {
      "cell_type": "markdown",
      "metadata": {
        "id": "bY6JNwDbzMRM",
        "colab_type": "text"
      },
      "source": [
        "#### Cleaning Data"
      ]
    },
    {
      "cell_type": "code",
      "metadata": {
        "id": "_CzzdkIKyOlP",
        "colab_type": "code",
        "colab": {}
      },
      "source": [
        "def clean_data(text):\n",
        "\n",
        "  search = [\"أ\",\"إ\",\"آ\",\"ة\",\"_\",\"-\",\"/\",\".\",\"،\",\" و \",\" يا \",'\"',\"ـ\",\"'\",\"ى\",\n",
        "              \"\\\\\",'\\n', '\\t','&quot;','?','؟','!']\n",
        "  replace = [\"ا\",\"ا\",\"ا\",\"ه\",\" \",\" \",\"\",\"\",\"\",\" و\",\" يا\",\n",
        "               \"\",\"\",\"\",\"ي\",\"\",' ', ' ',' ',' ? ',' ؟ ', ' ! ']\n",
        "  tashkeel = re.compile(r'[\\u0617-\\u061A\\u064B-\\u0652]')\n",
        "  text = re.sub(tashkeel,\"\", text)\n",
        "  longation = re.compile(r'(.)\\1+')\n",
        "  subst = r\"\\1\\1\"\n",
        "  text = re.sub(longation, subst, text)\n",
        "  text = re.sub(r\"[^\\w\\s]\", '', text)\n",
        "  text = re.sub(r\"[a-zA-Z]\", '', text)\n",
        "  text = re.sub(r\"\\d+\", ' ', text)\n",
        "  text = re.sub(r\"\\n+\", ' ', text)\n",
        "  text = re.sub(r\"\\t+\", ' ', text)\n",
        "  text = re.sub(r\"\\r+\", ' ', text)\n",
        "  text = re.sub(r\"\\s+\", ' ', text)\n",
        "  text = text.replace('وو', 'و')\n",
        "  text = text.replace('يي', 'ي')\n",
        "  text = text.replace('اا', 'ا')\n",
        "  for i in range(0, len(search)):\n",
        "     text = text.replace(search[i], replace[i])\n",
        "    \n",
        "  text = text.strip()\n",
        "  return text"
      ],
      "execution_count": 0,
      "outputs": []
    },
    {
      "cell_type": "code",
      "metadata": {
        "id": "PLKwo-xP0cr1",
        "colab_type": "code",
        "colab": {
          "base_uri": "https://localhost:8080/",
          "height": 126
        },
        "outputId": "9ff5af75-3f66-4e50-f9f8-ec216bc0f315"
      },
      "source": [
        "dataframe['cleaned_text'] = dataframe.text.apply(clean_data)"
      ],
      "execution_count": 7,
      "outputs": [
        {
          "output_type": "stream",
          "text": [
            "/usr/local/lib/python3.6/dist-packages/ipykernel_launcher.py:1: SettingWithCopyWarning: \n",
            "A value is trying to be set on a copy of a slice from a DataFrame.\n",
            "Try using .loc[row_indexer,col_indexer] = value instead\n",
            "\n",
            "See the caveats in the documentation: http://pandas.pydata.org/pandas-docs/stable/user_guide/indexing.html#returning-a-view-versus-a-copy\n",
            "  \"\"\"Entry point for launching an IPython kernel.\n"
          ],
          "name": "stderr"
        }
      ]
    },
    {
      "cell_type": "code",
      "metadata": {
        "id": "MPDMevJi0xIv",
        "colab_type": "code",
        "colab": {
          "base_uri": "https://localhost:8080/",
          "height": 348
        },
        "outputId": "43a2ad7f-480e-4dc8-c0a1-3be684980e6d"
      },
      "source": [
        "dataframe.head(10)"
      ],
      "execution_count": 34,
      "outputs": [
        {
          "output_type": "execute_result",
          "data": {
            "text/html": [
              "<div>\n",
              "<style scoped>\n",
              "    .dataframe tbody tr th:only-of-type {\n",
              "        vertical-align: middle;\n",
              "    }\n",
              "\n",
              "    .dataframe tbody tr th {\n",
              "        vertical-align: top;\n",
              "    }\n",
              "\n",
              "    .dataframe thead th {\n",
              "        text-align: right;\n",
              "    }\n",
              "</style>\n",
              "<table border=\"1\" class=\"dataframe\">\n",
              "  <thead>\n",
              "    <tr style=\"text-align: right;\">\n",
              "      <th></th>\n",
              "      <th>text</th>\n",
              "      <th>polarity</th>\n",
              "      <th>cleaned_text</th>\n",
              "    </tr>\n",
              "  </thead>\n",
              "  <tbody>\n",
              "    <tr>\n",
              "      <th>0</th>\n",
              "      <td>المكان الذي يمكنك فيه مراجعة الذات والتفكر هو ...</td>\n",
              "      <td>1</td>\n",
              "      <td>المكان الذي يمكنك فيه مراجعه الذات والتفكر هو ...</td>\n",
              "    </tr>\n",
              "    <tr>\n",
              "      <th>2</th>\n",
              "      <td>أسوأ فندق أقمت فيه على الإطلاق  \\r\\nيستغرق تسج...</td>\n",
              "      <td>-1</td>\n",
              "      <td>اسوا فندق اقمت فيه علي الاطلاق يستغرق تسجيل ال...</td>\n",
              "    </tr>\n",
              "    <tr>\n",
              "      <th>4</th>\n",
              "      <td>فندق جميل مع سوء الإدارة والخدمات.  \\r\\nمن الخ...</td>\n",
              "      <td>-1</td>\n",
              "      <td>فندق جميل مع سوء الاداره والخدمات من الخارج بد...</td>\n",
              "    </tr>\n",
              "    <tr>\n",
              "      <th>5</th>\n",
              "      <td>فندق جميل، منظر رائع من بركة السباحة (على السط...</td>\n",
              "      <td>1</td>\n",
              "      <td>فندق جميل منظر رائع من بركه السباحه علي السطح ...</td>\n",
              "    </tr>\n",
              "    <tr>\n",
              "      <th>6</th>\n",
              "      <td>مكان لطيف وهادئ بعيدًا عن الزحام  \\r\\nعثرت على...</td>\n",
              "      <td>1</td>\n",
              "      <td>مكان لطيف وهادئ بعيدا عن الزحام عثرت علي هذا ا...</td>\n",
              "    </tr>\n",
              "    <tr>\n",
              "      <th>7</th>\n",
              "      <td>راقي و كلاسيكي\"  \\r\\nفندق كبير مصمم بفن الديكو...</td>\n",
              "      <td>1</td>\n",
              "      <td>راقي وكلاسيكي فندق كبير مصمم بفن الديكور الجمي...</td>\n",
              "    </tr>\n",
              "    <tr>\n",
              "      <th>8</th>\n",
              "      <td>تحذير للرجال الذي يحبون تناول بعض البيرة ليلاً...</td>\n",
              "      <td>1</td>\n",
              "      <td>تحذير للرجال الذي يحبون تناول بعض البيره ليلا ...</td>\n",
              "    </tr>\n",
              "    <tr>\n",
              "      <th>9</th>\n",
              "      <td>فندق رائع  \\r\\nبعد 4 أيام قضيناها في ليسبوا، و...</td>\n",
              "      <td>1</td>\n",
              "      <td>فندق رائع بعد ايام قضيناها في ليسبوا وصلنا اخي...</td>\n",
              "    </tr>\n",
              "    <tr>\n",
              "      <th>10</th>\n",
              "      <td>ساحر  \\r\\nإذا كنت تتوق إلى تجربة فريدة، عليك ب...</td>\n",
              "      <td>1</td>\n",
              "      <td>ساحر اذا كنت تتوق الي تجربه فريده عليك بتجربه ...</td>\n",
              "    </tr>\n",
              "    <tr>\n",
              "      <th>11</th>\n",
              "      <td>هناك بعض الإحباطات ولكن الغرف كانت رائعة والمو...</td>\n",
              "      <td>1</td>\n",
              "      <td>هناك بعض الاحباطات ولكن الغرف كانت رائعه والمو...</td>\n",
              "    </tr>\n",
              "  </tbody>\n",
              "</table>\n",
              "</div>"
            ],
            "text/plain": [
              "                                                 text  ...                                       cleaned_text\n",
              "0   المكان الذي يمكنك فيه مراجعة الذات والتفكر هو ...  ...  المكان الذي يمكنك فيه مراجعه الذات والتفكر هو ...\n",
              "2   أسوأ فندق أقمت فيه على الإطلاق  \\r\\nيستغرق تسج...  ...  اسوا فندق اقمت فيه علي الاطلاق يستغرق تسجيل ال...\n",
              "4   فندق جميل مع سوء الإدارة والخدمات.  \\r\\nمن الخ...  ...  فندق جميل مع سوء الاداره والخدمات من الخارج بد...\n",
              "5   فندق جميل، منظر رائع من بركة السباحة (على السط...  ...  فندق جميل منظر رائع من بركه السباحه علي السطح ...\n",
              "6   مكان لطيف وهادئ بعيدًا عن الزحام  \\r\\nعثرت على...  ...  مكان لطيف وهادئ بعيدا عن الزحام عثرت علي هذا ا...\n",
              "7   راقي و كلاسيكي\"  \\r\\nفندق كبير مصمم بفن الديكو...  ...  راقي وكلاسيكي فندق كبير مصمم بفن الديكور الجمي...\n",
              "8   تحذير للرجال الذي يحبون تناول بعض البيرة ليلاً...  ...  تحذير للرجال الذي يحبون تناول بعض البيره ليلا ...\n",
              "9   فندق رائع  \\r\\nبعد 4 أيام قضيناها في ليسبوا، و...  ...  فندق رائع بعد ايام قضيناها في ليسبوا وصلنا اخي...\n",
              "10  ساحر  \\r\\nإذا كنت تتوق إلى تجربة فريدة، عليك ب...  ...  ساحر اذا كنت تتوق الي تجربه فريده عليك بتجربه ...\n",
              "11  هناك بعض الإحباطات ولكن الغرف كانت رائعة والمو...  ...  هناك بعض الاحباطات ولكن الغرف كانت رائعه والمو...\n",
              "\n",
              "[10 rows x 3 columns]"
            ]
          },
          "metadata": {
            "tags": []
          },
          "execution_count": 34
        }
      ]
    },
    {
      "cell_type": "markdown",
      "metadata": {
        "id": "b6iKmeAG0-H5",
        "colab_type": "text"
      },
      "source": [
        "#### Balancing Data\n",
        "#### Equal Pos and Neg reviews"
      ]
    },
    {
      "cell_type": "code",
      "metadata": {
        "id": "oFvEtlYx0y8E",
        "colab_type": "code",
        "colab": {
          "base_uri": "https://localhost:8080/",
          "height": 138
        },
        "outputId": "5cd36089-7752-4bff-a1e5-09688afd3f6f"
      },
      "source": [
        "min_sample = dataframe.groupby(['polarity']).count().text.min()\n",
        "input_data = pd.concat([dataframe[dataframe.polarity == 1].head(min_sample), dataframe[dataframe.polarity == -1].head(min_sample)])\n",
        "input_data.groupby(['polarity']).count()"
      ],
      "execution_count": 9,
      "outputs": [
        {
          "output_type": "execute_result",
          "data": {
            "text/html": [
              "<div>\n",
              "<style scoped>\n",
              "    .dataframe tbody tr th:only-of-type {\n",
              "        vertical-align: middle;\n",
              "    }\n",
              "\n",
              "    .dataframe tbody tr th {\n",
              "        vertical-align: top;\n",
              "    }\n",
              "\n",
              "    .dataframe thead th {\n",
              "        text-align: right;\n",
              "    }\n",
              "</style>\n",
              "<table border=\"1\" class=\"dataframe\">\n",
              "  <thead>\n",
              "    <tr style=\"text-align: right;\">\n",
              "      <th></th>\n",
              "      <th>text</th>\n",
              "      <th>cleaned_text</th>\n",
              "    </tr>\n",
              "    <tr>\n",
              "      <th>polarity</th>\n",
              "      <th></th>\n",
              "      <th></th>\n",
              "    </tr>\n",
              "  </thead>\n",
              "  <tbody>\n",
              "    <tr>\n",
              "      <th>-1</th>\n",
              "      <td>2647</td>\n",
              "      <td>2647</td>\n",
              "    </tr>\n",
              "    <tr>\n",
              "      <th>1</th>\n",
              "      <td>2647</td>\n",
              "      <td>2647</td>\n",
              "    </tr>\n",
              "  </tbody>\n",
              "</table>\n",
              "</div>"
            ],
            "text/plain": [
              "          text  cleaned_text\n",
              "polarity                    \n",
              "-1        2647          2647\n",
              " 1        2647          2647"
            ]
          },
          "metadata": {
            "tags": []
          },
          "execution_count": 9
        }
      ]
    },
    {
      "cell_type": "markdown",
      "metadata": {
        "id": "Xpn1rA502aEZ",
        "colab_type": "text"
      },
      "source": [
        "### Creating Numpy Arrays of Data"
      ]
    },
    {
      "cell_type": "code",
      "metadata": {
        "id": "ZVFXnyu62WUM",
        "colab_type": "code",
        "colab": {}
      },
      "source": [
        "X = input_data.cleaned_text.values"
      ],
      "execution_count": 0,
      "outputs": []
    },
    {
      "cell_type": "code",
      "metadata": {
        "id": "35qMW8EE2ioy",
        "colab_type": "code",
        "colab": {
          "base_uri": "https://localhost:8080/",
          "height": 183
        },
        "outputId": "d9798f32-d0f7-443e-c061-128f0344d2d2"
      },
      "source": [
        "X"
      ],
      "execution_count": 11,
      "outputs": [
        {
          "output_type": "execute_result",
          "data": {
            "text/plain": [
              "array(['المكان الذي يمكنك فيه مراجعه الذات والتفكر هو كوكروبيت غانا ثمه الكثير عند زياره غانا وعلي الرغم من الفقر الذي سوف تلاحظه علي طريقك الي بيغ ميلي باكيارد وجدت ان الناس في غانا يملكون ثراء القلب حتي رغم العوز بيغ ميلي باكيارد هو مكان يمكنني فيه مراجعه الذات والتفكر التقيت اشخاصا كانوا يعملون علي مبادرات مختلفه بيغ ميلي هو مكان يمكننا فيه تبادل الملاحظات والاراء بيغ ميلي مليء بالسلام وهادئ للغايه الطعام ممتاز جدا الطهاه ممتازون وبالاضافه الي ذلك لا بد من الاشاره الي ان العمال الذين لا يكلون ويحرصون علي سعاده نزلائهم هم من يجعلون المكان مضيافا هناك خيبه امل واحده كبيره رغم ان الفنون والاشغال اليدويه يمكن شراؤها في الموقع الا ان الاسعار غاليه مؤخرا ازالت السلطات في كوكروبيت محلات التجار الواقعه خارج شاطئ بيغ ميلي كانت منتجات التجار ارخص لا يزال هناك محل تجاري متجر مايسترو للفن الافريقي في كوكروبيت يعرض الفنون والاشغال اليدويه الفريده والملابس واللوحات اشتريت لوحات مذهله لايمكنك ان تجدها في بيغ ميلي عندما تزور بيغ ميلي من فضلك خذ لحظه للذهاب الي الشاطئ وعلي يمينك ستجد متجر مايسترو للفن الافريقي المذهل لا تنخدع باسعار التجار في بيغ ميلي باكيارد استمتع بالموسيقي والناس الرجاء ان تقضي وقتا ممتعا',\n",
              "       'فندق جميل منظر رائع من بركه السباحه علي السطح فندق جميل ديكور مريح جدا طاقم عمل ودود اسره مريحه موقع رائع وبركه سباحه جميله وشرفه علي السطح للاستمتاع بالمناظر الافطار رائع ايضا مع الكثير من الكعك احب ان اعود قريبا',\n",
              "       'مكان لطيف وهادئ بعيدا عن الزحام عثرت علي هذا المكان عن طريق موقع تريب ادفايزور ومره اخري كان جيدا وفندق في اي بي اكسيكوتيف هو واحد من فنادق كبار الشخصيات العديده في هذه المنطقه وتمت ترقيه غرفتي عند وصولي الغرفه واسعه جدا مع ثلاجه صغيره ونافذه تفتح علي هواء منعش ويوجد مكيف هواء وهو يقع خارج ساحه ماركيز بومبال وهو ما يجعله علي بعد مسافه قصيره بالمترو من جميع الانشطه القائمون علي العنايه بالغرف قاموا بعمل عظيم كان فريق العمل ودودا ومتعاونا استنادا الي التعليقات الموجوده علي موقع تريب ادفايزر لم اتناول الافطار هناك يورو ومشيت الي المقهي الموجود بالقرب من محطه المترو حيث حصلت علي معجنات رائعه وقهوه حليب طازجه مقابل يورو يوجد مجفف شعر بالغرفه لا توجد ساعه يوجد العديد من ملصقات كاندينسكي المستخدمه في الاعمال الفنيه الستائر جيده وقد كانت تحجب الضوء بقماش شفاف ابيض حي جيد به عاملون وبعض الفنادق توجد العديد من محلات الازياء بالجوار وكذلك بين الحديقه ومحطه مترو افينيدا خدمه الانترنت الدفع فيها حسب الاستخدام وتكلفه ساعه من استخدام الانترنت هي يورو',\n",
              "       ...,\n",
              "       'موظفون بشعون وغرفه بشعه انج بنفسك ابتعد ياالهي ابتعد اكثر ما يميز هذا المكان هو الوقاحه التي تصل الي اقصي الحدود بشع العاملون في هذا الفندق شخصان علي وجه التحديد والذين ليسوا من اصول سويديه وانا اؤكد علي هذا لان السويدين الاصلين هم اناس محترمون نعم السويديون اناس رائعون ومن الواضح ان هذين الشخصين جلبا معهما عاداتهما السيئه من بلادهم وليس لديهم ادني فكره عن كيفيه معامله الناس القادمين من ثقافات متحضره ومثقفه لقد كانوا مقززين وتكلموا بوقاحه لا تقيم في هذا الفندق وقاحه الموظفين بما في ذلك ما يسمي بالاداره غرفه النوم السريع عباره عن نصب واحتيال يفرضون رسوما علي استخدام الانترنت وهذا نصب يشاركك شخص اخر الحمام وتدفع دولارا في الليله نعم انه جنون الغرفه فعليا تجعلك بمجرد ان تفتح الباب تقع علي السرير ان الاقامه هناك كابوس لا تقيم في هذا الفندق لانك سوف تتحطم انني افضل النوم علي مقعد خشبي في حديقه سنترال بارك بدلا من الاقامه في هذا المبني الرخيص ياالله',\n",
              "       'رخيص وسيئ السجن هو الكلمه التي تتبادر الي الذهن فقط اعلن عنه علي انه فندق ولكنه نزل شباب انه رخيص لستوكهولم وموقعه جيد ولكن الفندق الفعلي مريع وكدنا ان نغادر لا تقيموا هنا ولا ازال اشعر بالحكه بعد شهر بسبب الحشرات',\n",
              "       'احقر مكان علي وجه الارض انصح كل الذين يقومون بتصفح الفنادق عبر الانترنت بالتروي في الاختيار فهذا المكان هو احقر ما وجدت في المغرب فهو بعيد جدا عن مراكش وسط الزراعات والادغال ولاتوجد خدمه بالداخل ولا يوجد انترنت والتواليتات الخاصه بالغرف لا تعمل بشكل سليم ومسدوده والافطار عباره عن بيضه مسلوقه وقطعه من الجبن مع قليل من المربي والزبد البلدي والخبز اما الغداء والعشاء فالله كان بالسر عليم فلقد ندمنا علي ما فعلنا وايضا وجدنا التواليت مسدود وعندما طلبنا تغيره قالو لنا بانهم قامو بدفع مبلغ من اجل اصلاحه فهل نحن ملتزمون بتصليح التواليت ناهيك عن المكان الموجود به الفندق انه ليس فندق وانما هو قبر وسط الزراعات حيث لا حياه ولا بشر وهذا للامانه احببت ان انصح به غيري'],\n",
              "      dtype=object)"
            ]
          },
          "metadata": {
            "tags": []
          },
          "execution_count": 11
        }
      ]
    },
    {
      "cell_type": "code",
      "metadata": {
        "id": "LJxZMf_12lEh",
        "colab_type": "code",
        "colab": {}
      },
      "source": [
        "Y = np.asarray(input_data.polarity.values).astype('float32')\n",
        "Y = Y.clip(0, 1)"
      ],
      "execution_count": 0,
      "outputs": []
    },
    {
      "cell_type": "code",
      "metadata": {
        "id": "oYWMxMw92pCJ",
        "colab_type": "code",
        "colab": {
          "base_uri": "https://localhost:8080/",
          "height": 35
        },
        "outputId": "926b3c14-1597-46a6-d736-749c4bb4a088"
      },
      "source": [
        "Y"
      ],
      "execution_count": 13,
      "outputs": [
        {
          "output_type": "execute_result",
          "data": {
            "text/plain": [
              "array([1., 1., 1., ..., 0., 0., 0.], dtype=float32)"
            ]
          },
          "metadata": {
            "tags": []
          },
          "execution_count": 13
        }
      ]
    },
    {
      "cell_type": "markdown",
      "metadata": {
        "id": "CJG_j4PP27Oo",
        "colab_type": "text"
      },
      "source": [
        "#### Creating Sequences"
      ]
    },
    {
      "cell_type": "code",
      "metadata": {
        "id": "lKyIU-Fi4VnH",
        "colab_type": "code",
        "colab": {
          "base_uri": "https://localhost:8080/",
          "height": 35
        },
        "outputId": "b0951c83-5b5e-4f67-a255-6bb1dd3c9b1d"
      },
      "source": [
        "num_words = 10000\n",
        "tokenizer = Tokenizer(num_words=num_words)\n",
        "tokenizer.fit_on_texts(X)\n",
        "\n",
        "X = tokenizer.texts_to_sequences(X)\n",
        "\n",
        "vocab_size = len(tokenizer.word_index) + 1\n",
        "print(\"vocab size:\", vocab_size)"
      ],
      "execution_count": 14,
      "outputs": [
        {
          "output_type": "stream",
          "text": [
            "vocab size: 48682\n"
          ],
          "name": "stdout"
        }
      ]
    },
    {
      "cell_type": "code",
      "metadata": {
        "id": "nlcX1Syf5iYE",
        "colab_type": "code",
        "colab": {}
      },
      "source": [
        "maxlen = 300\n",
        "X = pad_sequences(X, padding='post', maxlen=maxlen)"
      ],
      "execution_count": 0,
      "outputs": []
    },
    {
      "cell_type": "markdown",
      "metadata": {
        "id": "DzfqtUn351r2",
        "colab_type": "text"
      },
      "source": [
        "#### Splitting Data into train and Test "
      ]
    },
    {
      "cell_type": "code",
      "metadata": {
        "id": "BkW42Skx51Nd",
        "colab_type": "code",
        "colab": {}
      },
      "source": [
        "X_train, X_test, label_train, label_test = train_test_split(X, Y, test_size=0.1,\n",
        "                                                            random_state=seed)"
      ],
      "execution_count": 0,
      "outputs": []
    },
    {
      "cell_type": "code",
      "metadata": {
        "id": "QUutxR3t5yof",
        "colab_type": "code",
        "colab": {
          "base_uri": "https://localhost:8080/",
          "height": 54
        },
        "outputId": "c0afbdb9-2b23-4752-a8c6-e81c4d9bc21a"
      },
      "source": [
        "print(\"Training:\", len(X_train), len(label_train))\n",
        "print(\"Testing: \", len(X_test), len(label_test))"
      ],
      "execution_count": 17,
      "outputs": [
        {
          "output_type": "stream",
          "text": [
            "Training: 4764 4764\n",
            "Testing:  530 530\n"
          ],
          "name": "stdout"
        }
      ]
    },
    {
      "cell_type": "markdown",
      "metadata": {
        "id": "e5S5jkBv6czh",
        "colab_type": "text"
      },
      "source": [
        "#### Using Bidirectional LSTM"
      ]
    },
    {
      "cell_type": "code",
      "metadata": {
        "id": "tuTLAY3m6bRF",
        "colab_type": "code",
        "colab": {
          "base_uri": "https://localhost:8080/",
          "height": 910
        },
        "outputId": "c028b656-a009-429a-ba29-e54b4438c4e5"
      },
      "source": [
        "embedding_dim = 100\n",
        "dropout = 0.5\n",
        "optimizer = 'adam'\n",
        "clear_session()\n",
        "\n",
        "model = Sequential()\n",
        "model.add(layers.Embedding(input_dim=num_words,output_dim=embedding_dim,input_length=maxlen))\n",
        "model.add(layers.Bidirectional(layers.LSTM(100,dropout=dropout,recurrent_dropout=dropout,return_sequences=True)))\n",
        "model.add(layers.GlobalMaxPool1D())\n",
        "model.add(layers.Dense(128,activation='relu'))\n",
        "model.add(layers.Dropout(dropout))\n",
        "model.add(layers.Dense(64,activation='relu'))\n",
        "model.add(layers.Dropout(dropout))\n",
        "model.add(layers.Dense(32,activation='relu'))\n",
        "model.add(layers.Dropout(dropout))\n",
        "model.add(layers.Dense(1,activation='sigmoid'))\n",
        "\n",
        "model.compile(optimizer=optimizer,loss='binary_crossentropy',metrics=['accuracy'])\n",
        "model.summary()"
      ],
      "execution_count": 18,
      "outputs": [
        {
          "output_type": "stream",
          "text": [
            "WARNING:tensorflow:From /usr/local/lib/python3.6/dist-packages/keras/backend/tensorflow_backend.py:107: The name tf.reset_default_graph is deprecated. Please use tf.compat.v1.reset_default_graph instead.\n",
            "\n",
            "WARNING:tensorflow:From /usr/local/lib/python3.6/dist-packages/keras/backend/tensorflow_backend.py:111: The name tf.placeholder_with_default is deprecated. Please use tf.compat.v1.placeholder_with_default instead.\n",
            "\n",
            "WARNING:tensorflow:From /usr/local/lib/python3.6/dist-packages/keras/backend/tensorflow_backend.py:66: The name tf.get_default_graph is deprecated. Please use tf.compat.v1.get_default_graph instead.\n",
            "\n",
            "WARNING:tensorflow:From /usr/local/lib/python3.6/dist-packages/keras/backend/tensorflow_backend.py:541: The name tf.placeholder is deprecated. Please use tf.compat.v1.placeholder instead.\n",
            "\n",
            "WARNING:tensorflow:From /usr/local/lib/python3.6/dist-packages/keras/backend/tensorflow_backend.py:4432: The name tf.random_uniform is deprecated. Please use tf.random.uniform instead.\n",
            "\n",
            "WARNING:tensorflow:From /usr/local/lib/python3.6/dist-packages/keras/backend/tensorflow_backend.py:3733: calling dropout (from tensorflow.python.ops.nn_ops) with keep_prob is deprecated and will be removed in a future version.\n",
            "Instructions for updating:\n",
            "Please use `rate` instead of `keep_prob`. Rate should be set to `rate = 1 - keep_prob`.\n",
            "WARNING:tensorflow:From /usr/local/lib/python3.6/dist-packages/keras/optimizers.py:793: The name tf.train.Optimizer is deprecated. Please use tf.compat.v1.train.Optimizer instead.\n",
            "\n",
            "WARNING:tensorflow:From /usr/local/lib/python3.6/dist-packages/keras/backend/tensorflow_backend.py:3657: The name tf.log is deprecated. Please use tf.math.log instead.\n",
            "\n",
            "WARNING:tensorflow:From /usr/local/lib/python3.6/dist-packages/tensorflow_core/python/ops/nn_impl.py:183: where (from tensorflow.python.ops.array_ops) is deprecated and will be removed in a future version.\n",
            "Instructions for updating:\n",
            "Use tf.where in 2.0, which has the same broadcast rule as np.where\n",
            "Model: \"sequential_1\"\n",
            "_________________________________________________________________\n",
            "Layer (type)                 Output Shape              Param #   \n",
            "=================================================================\n",
            "embedding_1 (Embedding)      (None, 300, 100)          1000000   \n",
            "_________________________________________________________________\n",
            "bidirectional_1 (Bidirection (None, 300, 200)          160800    \n",
            "_________________________________________________________________\n",
            "global_max_pooling1d_1 (Glob (None, 200)               0         \n",
            "_________________________________________________________________\n",
            "dense_1 (Dense)              (None, 128)               25728     \n",
            "_________________________________________________________________\n",
            "dropout_1 (Dropout)          (None, 128)               0         \n",
            "_________________________________________________________________\n",
            "dense_2 (Dense)              (None, 64)                8256      \n",
            "_________________________________________________________________\n",
            "dropout_2 (Dropout)          (None, 64)                0         \n",
            "_________________________________________________________________\n",
            "dense_3 (Dense)              (None, 32)                2080      \n",
            "_________________________________________________________________\n",
            "dropout_3 (Dropout)          (None, 32)                0         \n",
            "_________________________________________________________________\n",
            "dense_4 (Dense)              (None, 1)                 33        \n",
            "=================================================================\n",
            "Total params: 1,196,897\n",
            "Trainable params: 1,196,897\n",
            "Non-trainable params: 0\n",
            "_________________________________________________________________\n"
          ],
          "name": "stdout"
        }
      ]
    },
    {
      "cell_type": "code",
      "metadata": {
        "id": "mlUEkFt68six",
        "colab_type": "code",
        "colab": {
          "base_uri": "https://localhost:8080/",
          "height": 654
        },
        "outputId": "e5ddc38a-6abb-43ca-a85f-1c728f58d8b0"
      },
      "source": [
        "history = model.fit(X_train, label_train, epochs = 50, verbose=True, validation_data=(X_test,label_test), batch_size=64,callbacks=[EarlyStopping(monitor='val_loss', patience=3, min_delta=0.0001)])"
      ],
      "execution_count": 20,
      "outputs": [
        {
          "output_type": "stream",
          "text": [
            "WARNING:tensorflow:From /usr/local/lib/python3.6/dist-packages/keras/backend/tensorflow_backend.py:1033: The name tf.assign_add is deprecated. Please use tf.compat.v1.assign_add instead.\n",
            "\n",
            "WARNING:tensorflow:From /usr/local/lib/python3.6/dist-packages/keras/backend/tensorflow_backend.py:1020: The name tf.assign is deprecated. Please use tf.compat.v1.assign instead.\n",
            "\n",
            "WARNING:tensorflow:From /usr/local/lib/python3.6/dist-packages/keras/backend/tensorflow_backend.py:3005: The name tf.Session is deprecated. Please use tf.compat.v1.Session instead.\n",
            "\n",
            "Train on 4764 samples, validate on 530 samples\n",
            "Epoch 1/50\n",
            "WARNING:tensorflow:From /usr/local/lib/python3.6/dist-packages/keras/backend/tensorflow_backend.py:190: The name tf.get_default_session is deprecated. Please use tf.compat.v1.get_default_session instead.\n",
            "\n",
            "WARNING:tensorflow:From /usr/local/lib/python3.6/dist-packages/keras/backend/tensorflow_backend.py:197: The name tf.ConfigProto is deprecated. Please use tf.compat.v1.ConfigProto instead.\n",
            "\n",
            "WARNING:tensorflow:From /usr/local/lib/python3.6/dist-packages/keras/backend/tensorflow_backend.py:207: The name tf.global_variables is deprecated. Please use tf.compat.v1.global_variables instead.\n",
            "\n",
            "WARNING:tensorflow:From /usr/local/lib/python3.6/dist-packages/keras/backend/tensorflow_backend.py:216: The name tf.is_variable_initialized is deprecated. Please use tf.compat.v1.is_variable_initialized instead.\n",
            "\n",
            "WARNING:tensorflow:From /usr/local/lib/python3.6/dist-packages/keras/backend/tensorflow_backend.py:223: The name tf.variables_initializer is deprecated. Please use tf.compat.v1.variables_initializer instead.\n",
            "\n",
            "4764/4764 [==============================] - 112s 24ms/step - loss: 0.6924 - acc: 0.5069 - val_loss: 0.6907 - val_acc: 0.5283\n",
            "Epoch 2/50\n",
            "4764/4764 [==============================] - 100s 21ms/step - loss: 0.6045 - acc: 0.6711 - val_loss: 0.3118 - val_acc: 0.9057\n",
            "Epoch 3/50\n",
            "4764/4764 [==============================] - 99s 21ms/step - loss: 0.3586 - acc: 0.8887 - val_loss: 0.2161 - val_acc: 0.9302\n",
            "Epoch 4/50\n",
            "4764/4764 [==============================] - 99s 21ms/step - loss: 0.2203 - acc: 0.9372 - val_loss: 0.1547 - val_acc: 0.9358\n",
            "Epoch 5/50\n",
            "4764/4764 [==============================] - 99s 21ms/step - loss: 0.1279 - acc: 0.9641 - val_loss: 0.1558 - val_acc: 0.9396\n",
            "Epoch 6/50\n",
            "4764/4764 [==============================] - 99s 21ms/step - loss: 0.0911 - acc: 0.9746 - val_loss: 0.1504 - val_acc: 0.9340\n",
            "Epoch 7/50\n",
            "4764/4764 [==============================] - 98s 21ms/step - loss: 0.0556 - acc: 0.9866 - val_loss: 0.1733 - val_acc: 0.9434\n",
            "Epoch 8/50\n",
            "4764/4764 [==============================] - 99s 21ms/step - loss: 0.0360 - acc: 0.9901 - val_loss: 0.1934 - val_acc: 0.9415\n",
            "Epoch 9/50\n",
            "4764/4764 [==============================] - 100s 21ms/step - loss: 0.0171 - acc: 0.9960 - val_loss: 0.3165 - val_acc: 0.9321\n"
          ],
          "name": "stdout"
        }
      ]
    },
    {
      "cell_type": "code",
      "metadata": {
        "id": "hOYQFUbb9dsh",
        "colab_type": "code",
        "colab": {
          "base_uri": "https://localhost:8080/",
          "height": 313
        },
        "outputId": "616e3b37-8db5-4ffa-c56d-ee32f14bcb46"
      },
      "source": [
        "import matplotlib.pyplot as plt\n",
        "# summarize history for accuracy\n",
        "print(history.history.keys())\n",
        "plt.plot(history.history['acc'])\n",
        "plt.plot(history.history['val_acc'])\n",
        "plt.title('model accuracy')\n",
        "plt.ylabel('accuracy')\n",
        "plt.xlabel('epoch')\n",
        "plt.legend(['train', 'test'], loc='upper left')\n",
        "plt.show()"
      ],
      "execution_count": 21,
      "outputs": [
        {
          "output_type": "stream",
          "text": [
            "dict_keys(['val_loss', 'val_acc', 'loss', 'acc'])\n"
          ],
          "name": "stdout"
        },
        {
          "output_type": "display_data",
          "data": {
            "image/png": "[encoded data removed]",
            "text/plain": [
              "<Figure size 432x288 with 1 Axes>"
            ]
          },
          "metadata": {
            "tags": []
          }
        }
      ]
    },
    {
      "cell_type": "code",
      "metadata": {
        "id": "IGfi02dmM68e",
        "colab_type": "code",
        "colab": {
          "base_uri": "https://localhost:8080/",
          "height": 281
        },
        "outputId": "fac8b702-5048-4f7c-b667-85b6f227ec93"
      },
      "source": [
        "plt.title('Accuracy')\n",
        "plt.plot(history.history['acc'], label='train')\n",
        "plt.plot(history.history['val_acc'], label='test')\n",
        "plt.legend()\n",
        "plt.show();"
      ],
      "execution_count": 22,
      "outputs": [
        {
          "output_type": "display_data",
          "data": {
            "image/png": "[encoded data removed]",
            "text/plain": [
              "<Figure size 432x288 with 1 Axes>"
            ]
          },
          "metadata": {
            "tags": []
          }
        }
      ]
    },
    {
      "cell_type": "markdown",
      "metadata": {
        "id": "4ycKd-BQNItk",
        "colab_type": "text"
      },
      "source": [
        "#### Saving Model"
      ]
    },
    {
      "cell_type": "code",
      "metadata": {
        "id": "m6_2s_y0NKWZ",
        "colab_type": "code",
        "colab": {}
      },
      "source": [
        "import pickle\n",
        "filename = 'arabic_tokenizer.pkl'\n",
        "pickle.dump(tokenizer, open(filename, 'wb'))"
      ],
      "execution_count": 0,
      "outputs": []
    },
    {
      "cell_type": "markdown",
      "metadata": {
        "id": "Q-u6xGPyOhlv",
        "colab_type": "text"
      },
      "source": [
        "#### Testing Models"
      ]
    },
    {
      "cell_type": "markdown",
      "metadata": {
        "id": "z6QhrqlPO2b6",
        "colab_type": "text"
      },
      "source": [
        "##### Blind Data"
      ]
    },
    {
      "cell_type": "code",
      "metadata": {
        "id": "vhotAsu0OgOy",
        "colab_type": "code",
        "colab": {}
      },
      "source": [
        "blind_sample = 200\n",
        "blind_test = pd.concat([dataframe[dataframe.polarity == 1].tail(blind_sample), \n",
        "                        dataframe[dataframe.polarity == -1].tail(blind_sample)])"
      ],
      "execution_count": 0,
      "outputs": []
    },
    {
      "cell_type": "code",
      "metadata": {
        "id": "18vqXbbxO4nJ",
        "colab_type": "code",
        "colab": {}
      },
      "source": [
        "X_blind = blind_test.cleaned_text.values\n",
        "Y_blind = np.asarray(blind_test.polarity.values).astype('float32')\n",
        "Y_blind = Y_blind.clip(0, 1)"
      ],
      "execution_count": 0,
      "outputs": []
    },
    {
      "cell_type": "code",
      "metadata": {
        "id": "wR4jBhHxO9sa",
        "colab_type": "code",
        "colab": {
          "base_uri": "https://localhost:8080/",
          "height": 55
        },
        "outputId": "e3f3a80d-ca04-4641-a522-8d55ac0711f9"
      },
      "source": [
        "X_blind[1]"
      ],
      "execution_count": 28,
      "outputs": [
        {
          "output_type": "execute_result",
          "data": {
            "text/plain": [
              "'ارفع اسعارك يالها من قيمه عظيمه مقابل ما تدفعه من مال دولار استرالي لليله الواحده ويتضمن افطارا مطبوخا ممتازا مئتا متر سيرا علي الاقدام الي الشاطئ ومطعم كازوما من ارخص وافضل الاكلات البحريه الطازجه التي وجدناها في بالي يمكنك استئجار دراجه دفع علي الشاطئ ثم تركبها الي البارات والمتاجر الرئيسيه علي طول مقدمه الشاطئ سافرنا مع زوجين اخرين وعند الوصول من الافضل طباعه الخارطه لان الاتجاهات قد تربك سائقي بالي قليلا رحب بنا بحراره رون وايرما وقدموا لنا مشروب بينتانغ البارد وهو ترحاب يتوقعه المرء من صديق مفتقد لفتره طويله الجو الغير رسمي في فيلات سانور بيتش يذكر المرء بالبيت واذا كان لدي رون بعض الوقت عليك ان تجرب واحده من جولاته الثقافيه المشهوره الفيلات كما هو مذكور في الاراء السابقه نظيفه واسعه كانت الثلاجه رائعه ولكن مع وجود صندوق التبريد بيغريد اسكي تحت شجره المعرفه لم يكن ثمه حاجه لها كنا قد لا تحتاج الي هذا ابرد مشروب بينتانغ في الجزيره كان لدينا ازواج اخرين انضموا الينا من كوتا لفتره ما بعد الظهر وهم يخططون منذ الان لرحلتهم القادمه الي بالي وفيلات سانور بيتش هي في اول قائمه اماكن الاقامه بالتاكيد سوف نعود اذا كنا نستطيع الحصول علي مكان'"
            ]
          },
          "metadata": {
            "tags": []
          },
          "execution_count": 28
        }
      ]
    },
    {
      "cell_type": "markdown",
      "metadata": {
        "id": "kth4aSThPGgY",
        "colab_type": "text"
      },
      "source": [
        "##### Text to sequences"
      ]
    },
    {
      "cell_type": "code",
      "metadata": {
        "id": "kIVrrsjJPEBp",
        "colab_type": "code",
        "colab": {}
      },
      "source": [
        "X_blind = tokenizer.texts_to_sequences(X_blind)\n",
        "X_blind = pad_sequences(X_blind, padding='post', maxlen=maxlen)"
      ],
      "execution_count": 0,
      "outputs": []
    },
    {
      "cell_type": "markdown",
      "metadata": {
        "id": "sUcCiRcXPMA5",
        "colab_type": "text"
      },
      "source": [
        "##### Predicting"
      ]
    },
    {
      "cell_type": "code",
      "metadata": {
        "id": "ijBs1bfLPJ8A",
        "colab_type": "code",
        "colab": {
          "base_uri": "https://localhost:8080/",
          "height": 35
        },
        "outputId": "6ef423ad-b100-437b-fe1f-39937decfc3c"
      },
      "source": [
        "pred_blind = model.predict(X_blind, verbose=True)"
      ],
      "execution_count": 30,
      "outputs": [
        {
          "output_type": "stream",
          "text": [
            "400/400 [==============================] - 6s 16ms/step\n"
          ],
          "name": "stdout"
        }
      ]
    },
    {
      "cell_type": "markdown",
      "metadata": {
        "id": "kxY2l3ZnPTHR",
        "colab_type": "text"
      },
      "source": [
        "##### ***Comparing*** *Results*"
      ]
    },
    {
      "cell_type": "code",
      "metadata": {
        "id": "EmWzh5nrPRM7",
        "colab_type": "code",
        "colab": {}
      },
      "source": [
        "df_blind = pd.DataFrame({'REAL': Y_blind, \n",
        "                         'PRED': pred_blind.reshape(pred_blind.shape[0],), \n",
        "                         'TEXT': blind_test.cleaned_text})\n",
        "df_blind = df_blind.reset_index()[['REAL', 'PRED', 'TEXT']]\n",
        "df_blind.PRED = df_blind.PRED.round()\n",
        "error_records = df_blind[df_blind.REAL != df_blind.PRED]"
      ],
      "execution_count": 0,
      "outputs": []
    },
    {
      "cell_type": "code",
      "metadata": {
        "id": "LoNRNU6FPa_K",
        "colab_type": "code",
        "colab": {
          "base_uri": "https://localhost:8080/",
          "height": 54
        },
        "outputId": "4e78e715-6dc8-47bf-8edc-287b28039a49"
      },
      "source": [
        "print(\"Number of misclassified reviews: {} out of {}\".format(error_records.shape[0], df_blind.shape[0]))\n",
        "print(\"Blind Test Accuracy:  {:.4f}\".format(accuracy_score(df_blind.REAL, df_blind.PRED)))"
      ],
      "execution_count": 32,
      "outputs": [
        {
          "output_type": "stream",
          "text": [
            "Number of misclassified reviews: 49 out of 400\n",
            "Blind Test Accuracy:  0.8775\n"
          ],
          "name": "stdout"
        }
      ]
    },
    {
      "cell_type": "code",
      "metadata": {
        "id": "6F8j1ip7PeVp",
        "colab_type": "code",
        "colab": {
          "base_uri": "https://localhost:8080/",
          "height": 198
        },
        "outputId": "0b0ef882-e8f1-4b97-f2c0-062164649a23"
      },
      "source": [
        "df_blind.sample(n=5)"
      ],
      "execution_count": 33,
      "outputs": [
        {
          "output_type": "execute_result",
          "data": {
            "text/html": [
              "<div>\n",
              "<style scoped>\n",
              "    .dataframe tbody tr th:only-of-type {\n",
              "        vertical-align: middle;\n",
              "    }\n",
              "\n",
              "    .dataframe tbody tr th {\n",
              "        vertical-align: top;\n",
              "    }\n",
              "\n",
              "    .dataframe thead th {\n",
              "        text-align: right;\n",
              "    }\n",
              "</style>\n",
              "<table border=\"1\" class=\"dataframe\">\n",
              "  <thead>\n",
              "    <tr style=\"text-align: right;\">\n",
              "      <th></th>\n",
              "      <th>REAL</th>\n",
              "      <th>PRED</th>\n",
              "      <th>TEXT</th>\n",
              "    </tr>\n",
              "  </thead>\n",
              "  <tbody>\n",
              "    <tr>\n",
              "      <th>16</th>\n",
              "      <td>1.0</td>\n",
              "      <td>1.0</td>\n",
              "      <td>متعه غير كبيره نوعا ما ان هذا الفرع من فندق با...</td>\n",
              "    </tr>\n",
              "    <tr>\n",
              "      <th>157</th>\n",
              "      <td>1.0</td>\n",
              "      <td>1.0</td>\n",
              "      <td>موقع عظيم قيمه واهميه كبيره يقع بعد دقائق فقط ...</td>\n",
              "    </tr>\n",
              "    <tr>\n",
              "      <th>160</th>\n",
              "      <td>1.0</td>\n",
              "      <td>1.0</td>\n",
              "      <td>فندق رائع لقد استمتعنا بهذا المكان كثيرا كانت ...</td>\n",
              "    </tr>\n",
              "    <tr>\n",
              "      <th>397</th>\n",
              "      <td>0.0</td>\n",
              "      <td>0.0</td>\n",
              "      <td>موظفون بشعون وغرفه بشعه انج بنفسك ابتعد ياالهي...</td>\n",
              "    </tr>\n",
              "    <tr>\n",
              "      <th>268</th>\n",
              "      <td>0.0</td>\n",
              "      <td>0.0</td>\n",
              "      <td>لا شكرا لا اصدق انني اقيم في نفس المكان مثل كل...</td>\n",
              "    </tr>\n",
              "  </tbody>\n",
              "</table>\n",
              "</div>"
            ],
            "text/plain": [
              "     REAL  PRED                                               TEXT\n",
              "16    1.0   1.0  متعه غير كبيره نوعا ما ان هذا الفرع من فندق با...\n",
              "157   1.0   1.0  موقع عظيم قيمه واهميه كبيره يقع بعد دقائق فقط ...\n",
              "160   1.0   1.0  فندق رائع لقد استمتعنا بهذا المكان كثيرا كانت ...\n",
              "397   0.0   0.0  موظفون بشعون وغرفه بشعه انج بنفسك ابتعد ياالهي...\n",
              "268   0.0   0.0  لا شكرا لا اصدق انني اقيم في نفس المكان مثل كل..."
            ]
          },
          "metadata": {
            "tags": []
          },
          "execution_count": 33
        }
      ]
    },
    {
      "cell_type": "code",
      "metadata": {
        "id": "aDuBf1sNPj-C",
        "colab_type": "code",
        "colab": {}
      },
      "source": [
        ""
      ],
      "execution_count": 0,
      "outputs": []
    }
  ]
}